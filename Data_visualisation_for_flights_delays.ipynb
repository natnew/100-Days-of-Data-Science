{
  "nbformat": 4,
  "nbformat_minor": 0,
  "metadata": {
    "colab": {
      "name": "Copy of Data visualisation for flights delays.ipynb",
      "provenance": [],
      "authorship_tag": "ABX9TyPSmGHJBKm0Sv9b3b3l8TIy",
      "include_colab_link": true
    },
    "kernelspec": {
      "name": "python3",
      "display_name": "Python 3"
    },
    "language_info": {
      "name": "python"
    }
  },
  "cells": [
    {
      "cell_type": "markdown",
      "metadata": {
        "id": "view-in-github",
        "colab_type": "text"
      },
      "source": [
        "<a href=\"https://colab.research.google.com/github/natnew/100-Days-of-Data-Science/blob/main/Data_visualisation_for_flights_delays.ipynb\" target=\"_parent\"><img src=\"https://colab.research.google.com/assets/colab-badge.svg\" alt=\"Open In Colab\"/></a>"
      ]
    },
    {
      "cell_type": "markdown",
      "source": [
        "# Load libraries"
      ],
      "metadata": {
        "id": "350-20KSvBZL"
      }
    },
    {
      "cell_type": "code",
      "execution_count": null,
      "metadata": {
        "colab": {
          "base_uri": "https://localhost:8080/"
        },
        "id": "9-hCYBKNuvFm",
        "outputId": "cb1d0d94-296f-4ce7-ddb4-9eb86aa1194b"
      },
      "outputs": [
        {
          "output_type": "stream",
          "name": "stdout",
          "text": [
            "Setup Complete\n"
          ]
        }
      ],
      "source": [
        "import pandas as pd\n",
        "pd.plotting.register_matplotlib_converters()\n",
        "import matplotlib.pyplot as plt\n",
        "%matplotlib inline\n",
        "import seaborn as sns\n",
        "print(\"Setup Complete\")"
      ]
    },
    {
      "cell_type": "markdown",
      "source": [
        "# Load data"
      ],
      "metadata": {
        "id": "4xgeAzH0vENT"
      }
    },
    {
      "cell_type": "code",
      "source": [
        "# Path of the file to read\n",
        "flight_filepath = \"flight_delays.csv\"\n",
        "\n",
        "# Read the file into a variable flight_data\n",
        "flight_data = pd.read_csv(flight_filepath, index_col=\"Month\")"
      ],
      "metadata": {
        "id": "ExePYco1vAe2"
      },
      "execution_count": null,
      "outputs": []
    },
    {
      "cell_type": "markdown",
      "source": [
        "# Examine Data"
      ],
      "metadata": {
        "id": "-kxzVmY6vUz6"
      }
    },
    {
      "cell_type": "code",
      "source": [
        "# Print the data\n",
        "flight_data"
      ],
      "metadata": {
        "colab": {
          "base_uri": "https://localhost:8080/",
          "height": 521
        },
        "id": "a22-ukZuvWQd",
        "outputId": "58697451-050f-4557-8cac-e59ffb6aaca7"
      },
      "execution_count": null,
      "outputs": [
        {
          "output_type": "execute_result",
          "data": {
            "text/html": [
              "\n",
              "  <div id=\"df-b0dd3a7f-c721-49e6-9136-8ecbff52c823\">\n",
              "    <div class=\"colab-df-container\">\n",
              "      <div>\n",
              "<style scoped>\n",
              "    .dataframe tbody tr th:only-of-type {\n",
              "        vertical-align: middle;\n",
              "    }\n",
              "\n",
              "    .dataframe tbody tr th {\n",
              "        vertical-align: top;\n",
              "    }\n",
              "\n",
              "    .dataframe thead th {\n",
              "        text-align: right;\n",
              "    }\n",
              "</style>\n",
              "<table border=\"1\" class=\"dataframe\">\n",
              "  <thead>\n",
              "    <tr style=\"text-align: right;\">\n",
              "      <th></th>\n",
              "      <th>AA</th>\n",
              "      <th>AS</th>\n",
              "      <th>B6</th>\n",
              "      <th>DL</th>\n",
              "      <th>EV</th>\n",
              "      <th>F9</th>\n",
              "      <th>HA</th>\n",
              "      <th>MQ</th>\n",
              "      <th>NK</th>\n",
              "      <th>OO</th>\n",
              "      <th>UA</th>\n",
              "      <th>US</th>\n",
              "      <th>VX</th>\n",
              "      <th>WN</th>\n",
              "    </tr>\n",
              "    <tr>\n",
              "      <th>Month</th>\n",
              "      <th></th>\n",
              "      <th></th>\n",
              "      <th></th>\n",
              "      <th></th>\n",
              "      <th></th>\n",
              "      <th></th>\n",
              "      <th></th>\n",
              "      <th></th>\n",
              "      <th></th>\n",
              "      <th></th>\n",
              "      <th></th>\n",
              "      <th></th>\n",
              "      <th></th>\n",
              "      <th></th>\n",
              "    </tr>\n",
              "  </thead>\n",
              "  <tbody>\n",
              "    <tr>\n",
              "      <th>1</th>\n",
              "      <td>6.955843</td>\n",
              "      <td>-0.320888</td>\n",
              "      <td>7.347281</td>\n",
              "      <td>-2.043847</td>\n",
              "      <td>8.537497</td>\n",
              "      <td>18.357238</td>\n",
              "      <td>3.512640</td>\n",
              "      <td>18.164974</td>\n",
              "      <td>11.398054</td>\n",
              "      <td>10.889894</td>\n",
              "      <td>6.352729</td>\n",
              "      <td>3.107457</td>\n",
              "      <td>1.420702</td>\n",
              "      <td>3.389466</td>\n",
              "    </tr>\n",
              "    <tr>\n",
              "      <th>2</th>\n",
              "      <td>7.530204</td>\n",
              "      <td>-0.782923</td>\n",
              "      <td>18.657673</td>\n",
              "      <td>5.614745</td>\n",
              "      <td>10.417236</td>\n",
              "      <td>27.424179</td>\n",
              "      <td>6.029967</td>\n",
              "      <td>21.301627</td>\n",
              "      <td>16.474466</td>\n",
              "      <td>9.588895</td>\n",
              "      <td>7.260662</td>\n",
              "      <td>7.114455</td>\n",
              "      <td>7.784410</td>\n",
              "      <td>3.501363</td>\n",
              "    </tr>\n",
              "    <tr>\n",
              "      <th>3</th>\n",
              "      <td>6.693587</td>\n",
              "      <td>-0.544731</td>\n",
              "      <td>10.741317</td>\n",
              "      <td>2.077965</td>\n",
              "      <td>6.730101</td>\n",
              "      <td>20.074855</td>\n",
              "      <td>3.468383</td>\n",
              "      <td>11.018418</td>\n",
              "      <td>10.039118</td>\n",
              "      <td>3.181693</td>\n",
              "      <td>4.892212</td>\n",
              "      <td>3.330787</td>\n",
              "      <td>5.348207</td>\n",
              "      <td>3.263341</td>\n",
              "    </tr>\n",
              "    <tr>\n",
              "      <th>4</th>\n",
              "      <td>4.931778</td>\n",
              "      <td>-3.009003</td>\n",
              "      <td>2.780105</td>\n",
              "      <td>0.083343</td>\n",
              "      <td>4.821253</td>\n",
              "      <td>12.640440</td>\n",
              "      <td>0.011022</td>\n",
              "      <td>5.131228</td>\n",
              "      <td>8.766224</td>\n",
              "      <td>3.223796</td>\n",
              "      <td>4.376092</td>\n",
              "      <td>2.660290</td>\n",
              "      <td>0.995507</td>\n",
              "      <td>2.996399</td>\n",
              "    </tr>\n",
              "    <tr>\n",
              "      <th>5</th>\n",
              "      <td>5.173878</td>\n",
              "      <td>-1.716398</td>\n",
              "      <td>-0.709019</td>\n",
              "      <td>0.149333</td>\n",
              "      <td>7.724290</td>\n",
              "      <td>13.007554</td>\n",
              "      <td>0.826426</td>\n",
              "      <td>5.466790</td>\n",
              "      <td>22.397347</td>\n",
              "      <td>4.141162</td>\n",
              "      <td>6.827695</td>\n",
              "      <td>0.681605</td>\n",
              "      <td>7.102021</td>\n",
              "      <td>5.680777</td>\n",
              "    </tr>\n",
              "    <tr>\n",
              "      <th>6</th>\n",
              "      <td>8.191017</td>\n",
              "      <td>-0.220621</td>\n",
              "      <td>5.047155</td>\n",
              "      <td>4.419594</td>\n",
              "      <td>13.952793</td>\n",
              "      <td>19.712951</td>\n",
              "      <td>0.882786</td>\n",
              "      <td>9.639323</td>\n",
              "      <td>35.561501</td>\n",
              "      <td>8.338477</td>\n",
              "      <td>16.932663</td>\n",
              "      <td>5.766296</td>\n",
              "      <td>5.779415</td>\n",
              "      <td>10.743462</td>\n",
              "    </tr>\n",
              "    <tr>\n",
              "      <th>7</th>\n",
              "      <td>3.870440</td>\n",
              "      <td>0.377408</td>\n",
              "      <td>5.841454</td>\n",
              "      <td>1.204862</td>\n",
              "      <td>6.926421</td>\n",
              "      <td>14.464543</td>\n",
              "      <td>2.001586</td>\n",
              "      <td>3.980289</td>\n",
              "      <td>14.352382</td>\n",
              "      <td>6.790333</td>\n",
              "      <td>10.262551</td>\n",
              "      <td>NaN</td>\n",
              "      <td>7.135773</td>\n",
              "      <td>10.504942</td>\n",
              "    </tr>\n",
              "    <tr>\n",
              "      <th>8</th>\n",
              "      <td>3.193907</td>\n",
              "      <td>2.503899</td>\n",
              "      <td>9.280950</td>\n",
              "      <td>0.653114</td>\n",
              "      <td>5.154422</td>\n",
              "      <td>9.175737</td>\n",
              "      <td>7.448029</td>\n",
              "      <td>1.896565</td>\n",
              "      <td>20.519018</td>\n",
              "      <td>5.606689</td>\n",
              "      <td>5.014041</td>\n",
              "      <td>NaN</td>\n",
              "      <td>5.106221</td>\n",
              "      <td>5.532108</td>\n",
              "    </tr>\n",
              "    <tr>\n",
              "      <th>9</th>\n",
              "      <td>-1.432732</td>\n",
              "      <td>-1.813800</td>\n",
              "      <td>3.539154</td>\n",
              "      <td>-3.703377</td>\n",
              "      <td>0.851062</td>\n",
              "      <td>0.978460</td>\n",
              "      <td>3.696915</td>\n",
              "      <td>-2.167268</td>\n",
              "      <td>8.000101</td>\n",
              "      <td>1.530896</td>\n",
              "      <td>-1.794265</td>\n",
              "      <td>NaN</td>\n",
              "      <td>0.070998</td>\n",
              "      <td>-1.336260</td>\n",
              "    </tr>\n",
              "    <tr>\n",
              "      <th>10</th>\n",
              "      <td>-0.580930</td>\n",
              "      <td>-2.993617</td>\n",
              "      <td>3.676787</td>\n",
              "      <td>-5.011516</td>\n",
              "      <td>2.303760</td>\n",
              "      <td>0.082127</td>\n",
              "      <td>0.467074</td>\n",
              "      <td>-3.735054</td>\n",
              "      <td>6.810736</td>\n",
              "      <td>1.750897</td>\n",
              "      <td>-2.456542</td>\n",
              "      <td>NaN</td>\n",
              "      <td>2.254278</td>\n",
              "      <td>-0.688851</td>\n",
              "    </tr>\n",
              "    <tr>\n",
              "      <th>11</th>\n",
              "      <td>0.772630</td>\n",
              "      <td>-1.916516</td>\n",
              "      <td>1.418299</td>\n",
              "      <td>-3.175414</td>\n",
              "      <td>4.415930</td>\n",
              "      <td>11.164527</td>\n",
              "      <td>-2.719894</td>\n",
              "      <td>0.220061</td>\n",
              "      <td>7.543881</td>\n",
              "      <td>4.925548</td>\n",
              "      <td>0.281064</td>\n",
              "      <td>NaN</td>\n",
              "      <td>0.116370</td>\n",
              "      <td>0.995684</td>\n",
              "    </tr>\n",
              "    <tr>\n",
              "      <th>12</th>\n",
              "      <td>4.149684</td>\n",
              "      <td>-1.846681</td>\n",
              "      <td>13.839290</td>\n",
              "      <td>2.504595</td>\n",
              "      <td>6.685176</td>\n",
              "      <td>9.346221</td>\n",
              "      <td>-1.706475</td>\n",
              "      <td>0.662486</td>\n",
              "      <td>12.733123</td>\n",
              "      <td>10.947612</td>\n",
              "      <td>7.012079</td>\n",
              "      <td>NaN</td>\n",
              "      <td>13.498720</td>\n",
              "      <td>6.720893</td>\n",
              "    </tr>\n",
              "  </tbody>\n",
              "</table>\n",
              "</div>\n",
              "      <button class=\"colab-df-convert\" onclick=\"convertToInteractive('df-b0dd3a7f-c721-49e6-9136-8ecbff52c823')\"\n",
              "              title=\"Convert this dataframe to an interactive table.\"\n",
              "              style=\"display:none;\">\n",
              "        \n",
              "  <svg xmlns=\"http://www.w3.org/2000/svg\" height=\"24px\"viewBox=\"0 0 24 24\"\n",
              "       width=\"24px\">\n",
              "    <path d=\"M0 0h24v24H0V0z\" fill=\"none\"/>\n",
              "    <path d=\"M18.56 5.44l.94 2.06.94-2.06 2.06-.94-2.06-.94-.94-2.06-.94 2.06-2.06.94zm-11 1L8.5 8.5l.94-2.06 2.06-.94-2.06-.94L8.5 2.5l-.94 2.06-2.06.94zm10 10l.94 2.06.94-2.06 2.06-.94-2.06-.94-.94-2.06-.94 2.06-2.06.94z\"/><path d=\"M17.41 7.96l-1.37-1.37c-.4-.4-.92-.59-1.43-.59-.52 0-1.04.2-1.43.59L10.3 9.45l-7.72 7.72c-.78.78-.78 2.05 0 2.83L4 21.41c.39.39.9.59 1.41.59.51 0 1.02-.2 1.41-.59l7.78-7.78 2.81-2.81c.8-.78.8-2.07 0-2.86zM5.41 20L4 18.59l7.72-7.72 1.47 1.35L5.41 20z\"/>\n",
              "  </svg>\n",
              "      </button>\n",
              "      \n",
              "  <style>\n",
              "    .colab-df-container {\n",
              "      display:flex;\n",
              "      flex-wrap:wrap;\n",
              "      gap: 12px;\n",
              "    }\n",
              "\n",
              "    .colab-df-convert {\n",
              "      background-color: #E8F0FE;\n",
              "      border: none;\n",
              "      border-radius: 50%;\n",
              "      cursor: pointer;\n",
              "      display: none;\n",
              "      fill: #1967D2;\n",
              "      height: 32px;\n",
              "      padding: 0 0 0 0;\n",
              "      width: 32px;\n",
              "    }\n",
              "\n",
              "    .colab-df-convert:hover {\n",
              "      background-color: #E2EBFA;\n",
              "      box-shadow: 0px 1px 2px rgba(60, 64, 67, 0.3), 0px 1px 3px 1px rgba(60, 64, 67, 0.15);\n",
              "      fill: #174EA6;\n",
              "    }\n",
              "\n",
              "    [theme=dark] .colab-df-convert {\n",
              "      background-color: #3B4455;\n",
              "      fill: #D2E3FC;\n",
              "    }\n",
              "\n",
              "    [theme=dark] .colab-df-convert:hover {\n",
              "      background-color: #434B5C;\n",
              "      box-shadow: 0px 1px 3px 1px rgba(0, 0, 0, 0.15);\n",
              "      filter: drop-shadow(0px 1px 2px rgba(0, 0, 0, 0.3));\n",
              "      fill: #FFFFFF;\n",
              "    }\n",
              "  </style>\n",
              "\n",
              "      <script>\n",
              "        const buttonEl =\n",
              "          document.querySelector('#df-b0dd3a7f-c721-49e6-9136-8ecbff52c823 button.colab-df-convert');\n",
              "        buttonEl.style.display =\n",
              "          google.colab.kernel.accessAllowed ? 'block' : 'none';\n",
              "\n",
              "        async function convertToInteractive(key) {\n",
              "          const element = document.querySelector('#df-b0dd3a7f-c721-49e6-9136-8ecbff52c823');\n",
              "          const dataTable =\n",
              "            await google.colab.kernel.invokeFunction('convertToInteractive',\n",
              "                                                     [key], {});\n",
              "          if (!dataTable) return;\n",
              "\n",
              "          const docLinkHtml = 'Like what you see? Visit the ' +\n",
              "            '<a target=\"_blank\" href=https://colab.research.google.com/notebooks/data_table.ipynb>data table notebook</a>'\n",
              "            + ' to learn more about interactive tables.';\n",
              "          element.innerHTML = '';\n",
              "          dataTable['output_type'] = 'display_data';\n",
              "          await google.colab.output.renderOutput(dataTable, element);\n",
              "          const docLink = document.createElement('div');\n",
              "          docLink.innerHTML = docLinkHtml;\n",
              "          element.appendChild(docLink);\n",
              "        }\n",
              "      </script>\n",
              "    </div>\n",
              "  </div>\n",
              "  "
            ],
            "text/plain": [
              "             AA        AS         B6  ...        US         VX         WN\n",
              "Month                                 ...                                \n",
              "1      6.955843 -0.320888   7.347281  ...  3.107457   1.420702   3.389466\n",
              "2      7.530204 -0.782923  18.657673  ...  7.114455   7.784410   3.501363\n",
              "3      6.693587 -0.544731  10.741317  ...  3.330787   5.348207   3.263341\n",
              "4      4.931778 -3.009003   2.780105  ...  2.660290   0.995507   2.996399\n",
              "5      5.173878 -1.716398  -0.709019  ...  0.681605   7.102021   5.680777\n",
              "6      8.191017 -0.220621   5.047155  ...  5.766296   5.779415  10.743462\n",
              "7      3.870440  0.377408   5.841454  ...       NaN   7.135773  10.504942\n",
              "8      3.193907  2.503899   9.280950  ...       NaN   5.106221   5.532108\n",
              "9     -1.432732 -1.813800   3.539154  ...       NaN   0.070998  -1.336260\n",
              "10    -0.580930 -2.993617   3.676787  ...       NaN   2.254278  -0.688851\n",
              "11     0.772630 -1.916516   1.418299  ...       NaN   0.116370   0.995684\n",
              "12     4.149684 -1.846681  13.839290  ...       NaN  13.498720   6.720893\n",
              "\n",
              "[12 rows x 14 columns]"
            ]
          },
          "metadata": {},
          "execution_count": 3
        }
      ]
    },
    {
      "cell_type": "markdown",
      "source": [
        "# Plot a Bar Chart"
      ],
      "metadata": {
        "id": "ZOMdrXy00WzF"
      }
    },
    {
      "cell_type": "code",
      "source": [
        "# Set the width and height of the figure\n",
        "plt.figure(figsize=(10,6))\n",
        "\n",
        "# Add title\n",
        "plt.title(\"Average Arrival Delay for Spirit Airlines Flights, by Month\")\n",
        "\n",
        "# Bar chart showing average arrival delay for Spirit Airlines flights by month\n",
        "sns.barplot(x=flight_data.index, y=flight_data['NK'])\n",
        "\n",
        "# Add label for vertical axis\n",
        "plt.ylabel(\"Arrival delay (in minutes)\")"
      ],
      "metadata": {
        "colab": {
          "base_uri": "https://localhost:8080/",
          "height": 421
        },
        "id": "6jaq8zTB0Zio",
        "outputId": "d7ed6b07-8c77-4da7-b952-d7dd17e1401b"
      },
      "execution_count": null,
      "outputs": [
        {
          "output_type": "execute_result",
          "data": {
            "text/plain": [
              "Text(0, 0.5, 'Arrival delay (in minutes)')"
            ]
          },
          "metadata": {},
          "execution_count": 4
        },
        {
          "output_type": "display_data",
          "data": {
            "image/png": "[encoded data removed]",
            "text/plain": [
              "<Figure size 720x432 with 1 Axes>"
            ]
          },
          "metadata": {
            "needs_background": "light"
          }
        }
      ]
    },
    {
      "cell_type": "code",
      "source": [
        "# Bar chart showing average arrival delay for Spirit Airlines flights by month\n",
        "sns.barplot(x=flight_data.index, y=flight_data['NK'])"
      ],
      "metadata": {
        "colab": {
          "base_uri": "https://localhost:8080/",
          "height": 297
        },
        "id": "HIdYb_Kp0jP7",
        "outputId": "727c4261-8c54-4d7f-a52e-55bf7f925aac"
      },
      "execution_count": null,
      "outputs": [
        {
          "output_type": "execute_result",
          "data": {
            "text/plain": [
              "<matplotlib.axes._subplots.AxesSubplot at 0x7ff3417b7910>"
            ]
          },
          "metadata": {},
          "execution_count": 5
        },
        {
          "output_type": "display_data",
          "data": {
            "image/png": "[encoded data removed]",
            "text/plain": [
              "<Figure size 432x288 with 1 Axes>"
            ]
          },
          "metadata": {
            "needs_background": "light"
          }
        }
      ]
    },
    {
      "cell_type": "markdown",
      "source": [
        "# Plot a Heatmap"
      ],
      "metadata": {
        "id": "Gvshh40F0ofZ"
      }
    },
    {
      "cell_type": "code",
      "source": [
        "# Set the width and height of the figure\n",
        "plt.figure(figsize=(14,7))\n",
        "\n",
        "# Add title\n",
        "plt.title(\"Average Arrival Delay for Each Airline, by Month\")\n",
        "\n",
        "# Heatmap showing average arrival delay for each airline by month\n",
        "sns.heatmap(data=flight_data, annot=True)\n",
        "\n",
        "# Add label for horizontal axis\n",
        "plt.xlabel(\"Airline\")"
      ],
      "metadata": {
        "colab": {
          "base_uri": "https://localhost:8080/",
          "height": 475
        },
        "id": "THmNezl90qcv",
        "outputId": "49d4d5f8-6fc3-4581-ec9f-130880ba1252"
      },
      "execution_count": null,
      "outputs": [
        {
          "output_type": "execute_result",
          "data": {
            "text/plain": [
              "Text(0.5, 42.0, 'Airline')"
            ]
          },
          "metadata": {},
          "execution_count": 6
        },
        {
          "output_type": "display_data",
          "data": {
            "image/png": "[encoded data removed]",
            "text/plain": [
              "<Figure size 1008x504 with 2 Axes>"
            ]
          },
          "metadata": {
            "needs_background": "light"
          }
        }
      ]
    },
    {
      "cell_type": "markdown",
      "source": [
        "# Heatmap showing average arrival delay for each airline by month\n",
        "sns.heatmap(data=flight_data, annot=True)"
      ],
      "metadata": {
        "id": "gjfP5B9D0vk_"
      }
    }
  ]
}