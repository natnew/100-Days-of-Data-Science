{
  "nbformat": 4,
  "nbformat_minor": 0,
  "metadata": {
    "colab": {
      "name": "Count the number of Moon rocks by type using Python.ipynb",
      "provenance": [],
      "authorship_tag": "ABX9TyPyqhBeNnl0GXb4LwKaRMvM",
      "include_colab_link": true
    },
    "kernelspec": {
      "name": "python3",
      "display_name": "Python 3"
    },
    "language_info": {
      "name": "python"
    }
  },
  "cells": [
    {
      "cell_type": "markdown",
      "metadata": {
        "id": "view-in-github",
        "colab_type": "text"
      },
      "source": [
        "<a href=\"https://colab.research.google.com/github/natnew/100-Days-of-Data-Science/blob/main/Count_the_number_of_Moon_rocks_by_type_using_Python.ipynb\" target=\"_parent\"><img src=\"https://colab.research.google.com/assets/colab-badge.svg\" alt=\"Open In Colab\"/></a>"
      ]
    },
    {
      "cell_type": "markdown",
      "source": [
        "#Analyzing the different types of rocks found by the Artemis Rover and producing a report."
      ],
      "metadata": {
        "id": "eP-Ra2bNgjXG"
      }
    },
    {
      "cell_type": "markdown",
      "source": [
        "#Test Notebook"
      ],
      "metadata": {
        "id": "emksWbd2hYMM"
      }
    },
    {
      "cell_type": "code",
      "source": [
        "print(\"Artemis Rover Rock Scanner Starting\")"
      ],
      "metadata": {
        "colab": {
          "base_uri": "https://localhost:8080/"
        },
        "id": "59-qDxKLg6P8",
        "outputId": "3955a615-63c6-4f30-90aa-d3ac910094ed"
      },
      "execution_count": 1,
      "outputs": [
        {
          "output_type": "stream",
          "name": "stdout",
          "text": [
            "Artemis Rover Rock Scanner Starting\n"
          ]
        }
      ]
    },
    {
      "cell_type": "markdown",
      "source": [
        "#Create some variables"
      ],
      "metadata": {
        "id": "xVJ36wtYhasK"
      }
    },
    {
      "cell_type": "markdown",
      "source": [
        "We want to create some variables to represent the count of the different types of rocks that Artemis found on the Moon."
      ],
      "metadata": {
        "id": "nCw1ryvVhACm"
      }
    },
    {
      "cell_type": "markdown",
      "source": [
        "Let's make some variables with names of \"basalt\", \"breccia\", \"highland\", and \"regolith\". We can also set these variables to 0 since we've not yet counted any rocks. Finally, make a list called rockList that will store the names of every rock the rover found. We can make the list empty, setting it equal to brackets with nothing inside them."
      ],
      "metadata": {
        "id": "vri6NqEUhJ1A"
      }
    },
    {
      "cell_type": "code",
      "source": [
        "basalt = 0\n",
        "breccia = 0\n",
        "highland = 0\n",
        "regolith = 0\n",
        "rockList = []"
      ],
      "metadata": {
        "id": "3SntbkZPhDbL"
      },
      "execution_count": 2,
      "outputs": []
    },
    {
      "cell_type": "markdown",
      "source": [
        "# Create a sample file "
      ],
      "metadata": {
        "id": "Mn9TwuSJhRLX"
      }
    },
    {
      "cell_type": "code",
      "source": [
        "strPath = \"rocks.txt\"\n",
        "fileObject = open(strPath, \"w\")\n",
        "fileObject.writelines([\"Reading Rocks\\n\",\"basalt\\n\",\"breccia\\n\",\"highland\\n\",\"regolith\\n\",\"highland\\n\",\"breccia\\n\",\"highland\\n\",\"regolith\\n\",\"regolith\\n\",\"basalt\\n\",\"highland\\n\",\"basalt\\n\",\"breccia\\n\",\"breccia\\n\",\"regolith\\n\",\"breccia\\n\",\"highland\\n\",\"highland\\n\",\"breccia\\n\",\"basalt\\n\"])\n",
        "fileObject.close()"
      ],
      "metadata": {
        "id": "JG7VQr_PhU5o"
      },
      "execution_count": 3,
      "outputs": []
    },
    {
      "cell_type": "markdown",
      "source": [
        "#Give these variables values."
      ],
      "metadata": {
        "id": "zPBhJbIfhllX"
      }
    },
    {
      "cell_type": "markdown",
      "source": [
        "We want to count the number of times we see a certain type of rock in the rocks txt file and add that number to the corresponding variable"
      ],
      "metadata": {
        "id": "9wApi1UZhr41"
      }
    },
    {
      "cell_type": "code",
      "source": [
        "strPath = \"rocks.txt\"\n",
        "fileObject = open(strPath)\n",
        "line = fileObject.readline()\n",
        "print(line)"
      ],
      "metadata": {
        "colab": {
          "base_uri": "https://localhost:8080/"
        },
        "id": "AHvPmOGzhztA",
        "outputId": "4beaad9e-645f-474a-8268-42b2c724d56e"
      },
      "execution_count": 4,
      "outputs": [
        {
          "output_type": "stream",
          "name": "stdout",
          "text": [
            "Reading Rocks\n",
            "\n"
          ]
        }
      ]
    },
    {
      "cell_type": "markdown",
      "source": [
        "#Read the file"
      ],
      "metadata": {
        "id": "EVrFu6Xqh7ZC"
      }
    },
    {
      "cell_type": "code",
      "source": [
        "rockList = fileObject.readlines()\n",
        "\n",
        "for rock in rockList:\n",
        "    print(rock)\n",
        "\n",
        "fileObject.close()"
      ],
      "metadata": {
        "id": "ccSNpyIOh85w"
      },
      "execution_count": null,
      "outputs": []
    },
    {
      "cell_type": "markdown",
      "source": [
        "#Find Different rock types"
      ],
      "metadata": {
        "id": "BQu0qI1ijeju"
      }
    },
    {
      "cell_type": "markdown",
      "source": [
        "Add a function that looks at a line of text, tells us which type of rock it is, and increments the corresponding variable"
      ],
      "metadata": {
        "id": "0nWQ9hEfjdRh"
      }
    },
    {
      "cell_type": "code",
      "source": [
        "def countMoonRocks(rockToID):\n",
        "    global basalt\n",
        "    global breccia\n",
        "    global highland\n",
        "    global regolith\n",
        "\n",
        "    rockToID = rockToID.lower()\n",
        "\n",
        "    if(\"basalt\" in rockToID):\n",
        "        print(\"Found a basalt\\n\")\n",
        "        basalt += 1\n",
        "\n",
        "    #TODO Add else if statements for breccia, highland and regolith\n",
        "    if(\"basalt\" in rockToID):\n",
        "        print(\"Found a basalt\\n\")\n",
        "        basalt += 1\n",
        "    elif(\"breccia\" in rockToID):\n",
        "        print(\"Found a breccia\\n\")\n",
        "        breccia += 1\n",
        "    elif(\"highland\" in rockToID):\n",
        "        print(\"Found a highland\\n\")\n",
        "        highland += 1\n",
        "    elif(\"regolith\" in rockToID):\n",
        "        print(\"Found a regolith\\n\")\n",
        "        regolith += 1\n",
        "\n",
        "    return"
      ],
      "metadata": {
        "id": "2V6JUsiRjmy4"
      },
      "execution_count": 7,
      "outputs": []
    },
    {
      "cell_type": "code",
      "source": [
        "for rock in rockList:\n",
        "    countMoonRocks(rock)"
      ],
      "metadata": {
        "colab": {
          "base_uri": "https://localhost:8080/"
        },
        "id": "90khhSUvj2zB",
        "outputId": "7ee67b5a-d9ac-4e46-c36d-840f600e9225"
      },
      "execution_count": 8,
      "outputs": [
        {
          "output_type": "stream",
          "name": "stdout",
          "text": [
            "Found a basalt\n",
            "\n",
            "Found a basalt\n",
            "\n",
            "Found a breccia\n",
            "\n",
            "Found a highland\n",
            "\n",
            "Found a regolith\n",
            "\n",
            "Found a highland\n",
            "\n",
            "Found a breccia\n",
            "\n",
            "Found a highland\n",
            "\n",
            "Found a regolith\n",
            "\n",
            "Found a regolith\n",
            "\n",
            "Found a basalt\n",
            "\n",
            "Found a basalt\n",
            "\n",
            "Found a highland\n",
            "\n",
            "Found a basalt\n",
            "\n",
            "Found a basalt\n",
            "\n",
            "Found a breccia\n",
            "\n",
            "Found a breccia\n",
            "\n",
            "Found a regolith\n",
            "\n",
            "Found a breccia\n",
            "\n",
            "Found a highland\n",
            "\n",
            "Found a highland\n",
            "\n",
            "Found a breccia\n",
            "\n",
            "Found a basalt\n",
            "\n",
            "Found a basalt\n",
            "\n"
          ]
        }
      ]
    },
    {
      "cell_type": "markdown",
      "source": [
        "#Print each rock type\n"
      ],
      "metadata": {
        "id": "4jM7CMnNkBya"
      }
    },
    {
      "cell_type": "code",
      "source": [
        "# TODO Add a print statement for the other types of rocks: breccia, highland and regolith\n",
        "print(\"Number of Basalt: \", basalt)"
      ],
      "metadata": {
        "colab": {
          "base_uri": "https://localhost:8080/"
        },
        "id": "rwurEhV0kDxz",
        "outputId": "d625be02-cc7d-4726-ba65-8759c7d89800"
      },
      "execution_count": 9,
      "outputs": [
        {
          "output_type": "stream",
          "name": "stdout",
          "text": [
            "Number of Basalt:  8\n"
          ]
        }
      ]
    },
    {
      "cell_type": "markdown",
      "source": [
        "As you can see, we first output a string that tells the user what they'll see. Then we concatenate on the variable name that includes the number of basalt rocks we found."
      ],
      "metadata": {
        "id": "YqeniqWDkQae"
      }
    },
    {
      "cell_type": "code",
      "source": [
        "print(\"Number of Basalt: \", basalt)\n",
        "print(\"Number of Breccia: \", breccia)\n",
        "print(\"Number of Highland: \", highland)\n",
        "print(\"Number of Regolith: \", regolith)\n",
        "\n",
        "print(\"The max number of one type of rock found was:\", max(basalt, breccia, highland,regolith))\n",
        "print(\"The minimum number of one type of rock found was:\", min(basalt, breccia, highland, regolith))"
      ],
      "metadata": {
        "colab": {
          "base_uri": "https://localhost:8080/"
        },
        "id": "LicLZcTDkTa8",
        "outputId": "4534b4a7-086c-482e-945e-eb0cda630a97"
      },
      "execution_count": 11,
      "outputs": [
        {
          "output_type": "stream",
          "name": "stdout",
          "text": [
            "Number of Basalt:  8\n",
            "Number of Breccia:  6\n",
            "Number of Highland:  6\n",
            "Number of Regolith:  4\n",
            "The max number of one type of rock found was: 8\n",
            "The minimum number of one type of rock found was: 4\n"
          ]
        }
      ]
    }
  ]
}